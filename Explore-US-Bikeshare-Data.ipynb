{
 "cells": [
  {
   "cell_type": "code",
   "execution_count": 8,
   "metadata": {},
   "outputs": [],
   "source": [
    "import pandas as pd\n",
    "import time\n",
    "import numpy as np"
   ]
  },
  {
   "cell_type": "markdown",
   "metadata": {},
   "source": [
    "## Bike Share Data"
   ]
  },
  {
   "cell_type": "code",
   "execution_count": null,
   "metadata": {},
   "outputs": [],
   "source": []
  },
  {
   "cell_type": "code",
   "execution_count": 2,
   "metadata": {},
   "outputs": [
    {
     "name": "stdout",
     "output_type": "stream",
     "text": [
      "Hello! Let's explore some US bikeshare data!\n",
      "Enter the name of the city to analyze (chicago, new york city, washington) : new york city\n",
      "Enter the name of the month to filter by, or all to apply no month filter (all, january, february, ... , june) : june\n",
      "Enter the name of the day of week to filter by, or all to apply no day filter (all, monday, tuesday, ... sunday) : monday\n",
      "----------------------------------------\n"
     ]
    }
   ],
   "source": [
    "CITY_DATA = {'chicago': 'chicago.csv',\n",
    "             'new york city': 'new_york_city.csv',\n",
    "             'washington': 'washington.csv'}\n",
    "\n",
    "def get_filters():\n",
    "    \"\"\"\n",
    "    Asks user to specify a city, month, and day to analyze.\n",
    "\n",
    "    Returns:\n",
    "        (str) city - name of the city to analyze\n",
    "        (str) month - name of the month to filter by, or \"all\" to apply no month filter\n",
    "        (str) day - name of the day of week to filter by, or \"all\" to apply no day filter\n",
    "    \"\"\"\n",
    "    print('Hello! Let\\'s explore some US bikeshare data!')\n",
    "    cities = ('chicago', 'new york city', 'washington')\n",
    "    months = ('all', 'january', 'february', 'march', 'april', 'may', 'june')\n",
    "    days = ('all', 'monday', 'tuesday', 'wednesday', 'thursday', 'friday', 'saturday', 'sunday')\n",
    "    # TO DO: get user input for city (chicago, new york city, washington). HINT: Use a while loop to handle invalid inputs\n",
    "    city = input(\"Enter the name of the city to analyze (chicago, new york city, washington) : \").lower()\n",
    "    while city not in cities:\n",
    "        print(\"Enter a Valid Name!!\")\n",
    "        city = input(\"Enter the name of the city to analyze (chicago, new york city, washington) : \").lower()\n",
    "\n",
    "    # TO DO: get user input for month (all, january, february, ... , june)\n",
    "    month = input(\n",
    "        \"Enter the name of the month to filter by, or all to apply no month filter (all, january, february, ... , june) : \").lower()\n",
    "    while month not in months:\n",
    "        print(\"Enter a Valid Name!!\")\n",
    "        month = input(\n",
    "            \"Enter the name of the month to filter by, or all to apply no month filter (all, january, february, ... , june) : \").lower()\n",
    "\n",
    "    # TO DO: get user input for day of week (all, monday, tuesday, ... sunday)\n",
    "    day = input(\n",
    "        \"Enter the name of the day of week to filter by, or all to apply no day filter (all, monday, tuesday, ... sunday) : \").lower()\n",
    "    while day not in days:\n",
    "        print(\"Enter a Valid Name!!\")\n",
    "        day = input(\n",
    "            \"Enter the name of the day of week to filter by, or all to apply no day filter (all, monday, tuesday, ... sunday) : \").lower()\n",
    "\n",
    "    print('-' * 40)\n",
    "    return city, month, day\n",
    "\n",
    "city,month,day = get_filters()"
   ]
  },
  {
   "cell_type": "code",
   "execution_count": 3,
   "metadata": {},
   "outputs": [],
   "source": [
    "def load_data(city, month, day):\n",
    "    \"\"\"\n",
    "    Loads data for the specified city and filters by month and day if applicable.\n",
    "\n",
    "    Args:\n",
    "        (str) city - name of the city to analyze\n",
    "        (str) month - name of the month to filter by, or \"all\" to apply no month filter\n",
    "        (str) day - name of the day of week to filter by, or \"all\" to apply no day filter\n",
    "    Returns:\n",
    "        df - Pandas DataFrame containing city data filtered by month and day\n",
    "    \"\"\"\n",
    "    df = pd.read_csv(CITY_DATA[city])\n",
    "\n",
    "    df['Start Time'] = pd.to_datetime(df['Start Time'])\n",
    "\n",
    "    df['month'] = df['Start Time'].dt.month\n",
    "    df['day_of_week'] = df['Start Time'].dt.day_name()\n",
    "\n",
    "    if month != 'all':\n",
    "        months = ['january', 'february', 'march', 'april', 'may', 'june']\n",
    "        month = months.index(month) + 1\n",
    "        df = df[df['month'] == month]\n",
    "\n",
    "    if day != 'all':\n",
    "        df = df[df['day_of_week'] == day.title()]\n",
    "\n",
    "    return df"
   ]
  },
  {
   "cell_type": "code",
   "execution_count": 5,
   "metadata": {},
   "outputs": [
    {
     "data": {
      "text/html": [
       "<div><div id=ad342cb3-91db-4779-b0c6-26faf4d8b7be style=\"display:none; background-color:#9D6CFF; color:white; width:200px; height:30px; padding-left:5px; border-radius:4px; flex-direction:row; justify-content:space-around; align-items:center;\" onmouseover=\"this.style.backgroundColor='#BA9BF8'\" onmouseout=\"this.style.backgroundColor='#9D6CFF'\" onclick=\"window.commands?.execute('create-mitosheet-from-dataframe-output');\">See Full Dataframe in Mito</div> <script> if (window.commands.hasCommand('create-mitosheet-from-dataframe-output')) document.getElementById('ad342cb3-91db-4779-b0c6-26faf4d8b7be').style.display = 'flex' </script> <table border=\"1\" class=\"dataframe\">\n",
       "  <thead>\n",
       "    <tr style=\"text-align: right;\">\n",
       "      <th></th>\n",
       "      <th>Unnamed: 0</th>\n",
       "      <th>Start Time</th>\n",
       "      <th>End Time</th>\n",
       "      <th>Trip Duration</th>\n",
       "      <th>Start Station</th>\n",
       "      <th>End Station</th>\n",
       "      <th>User Type</th>\n",
       "      <th>Gender</th>\n",
       "      <th>Birth Year</th>\n",
       "      <th>month</th>\n",
       "      <th>day_of_week</th>\n",
       "    </tr>\n",
       "  </thead>\n",
       "  <tbody>\n",
       "    <tr>\n",
       "      <th>49</th>\n",
       "      <td>5334757</td>\n",
       "      <td>2017-06-05 12:23:13</td>\n",
       "      <td>2017-06-05 12:29:22</td>\n",
       "      <td>368</td>\n",
       "      <td>E 53 St &amp; Madison Ave</td>\n",
       "      <td>E 58 St &amp; 1 Ave</td>\n",
       "      <td>Subscriber</td>\n",
       "      <td>Male</td>\n",
       "      <td>1990.0</td>\n",
       "      <td>6</td>\n",
       "      <td>Monday</td>\n",
       "    </tr>\n",
       "    <tr>\n",
       "      <th>129</th>\n",
       "      <td>5351922</td>\n",
       "      <td>2017-06-05 17:36:56</td>\n",
       "      <td>2017-06-05 18:06:11</td>\n",
       "      <td>1754</td>\n",
       "      <td>South St &amp; Gouverneur Ln</td>\n",
       "      <td>Richards St &amp; Delavan St</td>\n",
       "      <td>Subscriber</td>\n",
       "      <td>Male</td>\n",
       "      <td>1987.0</td>\n",
       "      <td>6</td>\n",
       "      <td>Monday</td>\n",
       "    </tr>\n",
       "    <tr>\n",
       "      <th>156</th>\n",
       "      <td>5321258</td>\n",
       "      <td>2017-06-05 08:08:51</td>\n",
       "      <td>2017-06-05 08:39:03</td>\n",
       "      <td>1812</td>\n",
       "      <td>Murray St &amp; West St</td>\n",
       "      <td>W 42 St &amp; 8 Ave</td>\n",
       "      <td>Subscriber</td>\n",
       "      <td>Male</td>\n",
       "      <td>1969.0</td>\n",
       "      <td>6</td>\n",
       "      <td>Monday</td>\n",
       "    </tr>\n",
       "    <tr>\n",
       "      <th>247</th>\n",
       "      <td>5768649</td>\n",
       "      <td>2017-06-12 21:10:48</td>\n",
       "      <td>2017-06-12 21:40:25</td>\n",
       "      <td>1777</td>\n",
       "      <td>West St &amp; Chambers St</td>\n",
       "      <td>11 Ave &amp; W 59 St</td>\n",
       "      <td>Subscriber</td>\n",
       "      <td>Female</td>\n",
       "      <td>1958.0</td>\n",
       "      <td>6</td>\n",
       "      <td>Monday</td>\n",
       "    </tr>\n",
       "    <tr>\n",
       "      <th>263</th>\n",
       "      <td>5320479</td>\n",
       "      <td>2017-06-05 07:58:07</td>\n",
       "      <td>2017-06-05 09:21:32</td>\n",
       "      <td>5004</td>\n",
       "      <td>Brooklyn Bridge Park - Pier 2</td>\n",
       "      <td>Cadman Plaza E &amp; Tillary St</td>\n",
       "      <td>Customer</td>\n",
       "      <td>NaN</td>\n",
       "      <td>NaN</td>\n",
       "      <td>6</td>\n",
       "      <td>Monday</td>\n",
       "    </tr>\n",
       "  </tbody>\n",
       "</table></div>"
      ],
      "text/plain": [
       "     Unnamed: 0          Start Time             End Time  Trip Duration  \\\n",
       "49      5334757 2017-06-05 12:23:13  2017-06-05 12:29:22            368   \n",
       "129     5351922 2017-06-05 17:36:56  2017-06-05 18:06:11           1754   \n",
       "156     5321258 2017-06-05 08:08:51  2017-06-05 08:39:03           1812   \n",
       "247     5768649 2017-06-12 21:10:48  2017-06-12 21:40:25           1777   \n",
       "263     5320479 2017-06-05 07:58:07  2017-06-05 09:21:32           5004   \n",
       "\n",
       "                     Start Station                  End Station   User Type  \\\n",
       "49           E 53 St & Madison Ave              E 58 St & 1 Ave  Subscriber   \n",
       "129       South St & Gouverneur Ln     Richards St & Delavan St  Subscriber   \n",
       "156            Murray St & West St              W 42 St & 8 Ave  Subscriber   \n",
       "247          West St & Chambers St             11 Ave & W 59 St  Subscriber   \n",
       "263  Brooklyn Bridge Park - Pier 2  Cadman Plaza E & Tillary St    Customer   \n",
       "\n",
       "     Gender  Birth Year  month day_of_week  \n",
       "49     Male      1990.0      6      Monday  \n",
       "129    Male      1987.0      6      Monday  \n",
       "156    Male      1969.0      6      Monday  \n",
       "247  Female      1958.0      6      Monday  \n",
       "263     NaN         NaN      6      Monday  "
      ]
     },
     "execution_count": 5,
     "metadata": {},
     "output_type": "execute_result"
    }
   ],
   "source": [
    "df = load_data(city, month, day)\n",
    "df.head()"
   ]
  },
  {
   "cell_type": "code",
   "execution_count": 10,
   "metadata": {},
   "outputs": [],
   "source": [
    "def time_stats(df):\n",
    "    \n",
    "\n",
    "    print('\\nCalculating The Most Frequent Times of Travel')\n",
    "    start_time = time.time()\n",
    "\n",
    "    # TO DO: display the most common month\n",
    "    print(\"The most common month : \", df['month'].mode()[0])\n",
    "\n",
    "    # TO DO: display the most common day of week\n",
    "    print(\"The most common day of week : \", df['day_of_week'].mode()[0])\n",
    "\n",
    "    # TO DO: display the most common start hour\n",
    "    print(\"The most common start hour : \", df['Start Time'].dt.hour.mode()[0])\n",
    "\n",
    "    print(\"\\nThis took %s seconds.\" % (time.time() - start_time))\n",
    "    print('-' * 40)"
   ]
  },
  {
   "cell_type": "code",
   "execution_count": 11,
   "metadata": {},
   "outputs": [
    {
     "name": "stdout",
     "output_type": "stream",
     "text": [
      "\n",
      "Calculating The Most Frequent Times of Travel\n",
      "The most common month :  6\n",
      "The most common day of week :  Monday\n",
      "The most common start hour :  8\n",
      "\n",
      "This took 0.004004478454589844 seconds.\n",
      "----------------------------------------\n"
     ]
    }
   ],
   "source": [
    "time_stats(df)"
   ]
  },
  {
   "cell_type": "code",
   "execution_count": 12,
   "metadata": {},
   "outputs": [],
   "source": [
    "def station_stats(df):\n",
    "    \"\"\"Displays statistics on the most popular stations and trip.\"\"\"\n",
    "\n",
    "    print('\\nCalculating The Most Popular Stations and Trip...\\n')\n",
    "    start_time = time.time()\n",
    "\n",
    "    # TO DO: display most commonly used start station\n",
    "    print(\"The most commonly used start station : \", df['Start Station'].mode()[0])\n",
    "\n",
    "    # TO DO: display most commonly used end station\n",
    "    print(\"The most commonly used end station : \", df['End Station'].mode()[0])\n",
    "\n",
    "    # TO DO: display most frequent combination of start station and end station trip\n",
    "    print(\"The most most frequent combination of start station and end station trip : \\nStart Station : \", df[[\"Start Station\",\"End Station\"]].mode()['Start Station'][0],\"\\nEnd Station : \",df[[\"Start Station\",\"End Station\"]].mode()['End Station'][0])\n",
    "\n",
    "    print(\"\\nThis took %s seconds.\" % (time.time() - start_time))\n",
    "    print('-' * 40)"
   ]
  },
  {
   "cell_type": "code",
   "execution_count": 13,
   "metadata": {},
   "outputs": [
    {
     "name": "stdout",
     "output_type": "stream",
     "text": [
      "\n",
      "Calculating The Most Popular Stations and Trip...\n",
      "\n",
      "The most commonly used start station :  Pershing Square North\n",
      "The most commonly used end station :  Pershing Square North\n",
      "The most most frequent combination of start station and end station trip : \n",
      "Start Station :  Pershing Square North \n",
      "End Station :  Pershing Square North\n",
      "\n",
      "This took 0.014998912811279297 seconds.\n",
      "----------------------------------------\n"
     ]
    }
   ],
   "source": [
    "station_stats(df)"
   ]
  },
  {
   "cell_type": "code",
   "execution_count": 18,
   "metadata": {},
   "outputs": [],
   "source": [
    "def trip_duration_stats(df):\n",
    "    \"\"\"Displays statistics on the total and average trip duration.\"\"\"\n",
    "\n",
    "    print('\\nCalculating Trip Duration...\\n')\n",
    "    start_time = time.time()\n",
    "\n",
    "    # TO DO: display total travel time\n",
    "    print(\"The total travel time : \", df[\"Trip Duration\"].sum())\n",
    "    df['Trip Duration'].sum()\n",
    "    # TO DO: display mean travel time\n",
    "    print(\"The mean travel time : \", df[\"Trip Duration\"].mean())\n",
    "    df['Trip Duration'].mean()\n",
    "\n",
    "    print(\"\\nThis took %s seconds.\" % (time.time() - start_time))\n",
    "    print('-' * 40)"
   ]
  },
  {
   "cell_type": "code",
   "execution_count": 19,
   "metadata": {},
   "outputs": [
    {
     "name": "stdout",
     "output_type": "stream",
     "text": [
      "\n",
      "Calculating Trip Duration...\n",
      "\n",
      "The total travel time :  8134869\n",
      "The mean travel time :  856.3921465417412\n",
      "\n",
      "This took 0.0029997825622558594 seconds.\n",
      "----------------------------------------\n"
     ]
    }
   ],
   "source": [
    "trip_duration_stats(df)"
   ]
  },
  {
   "cell_type": "code",
   "execution_count": 22,
   "metadata": {},
   "outputs": [],
   "source": [
    "def user_stats(df):\n",
    "    \"\"\"Displays statistics on bikeshare users.\"\"\"\n",
    "\n",
    "    print('\\nCalculating User Stats...\\n')\n",
    "    start_time = time.time()\n",
    "\n",
    "    # TO DO: Display counts of user types\n",
    "    print(\"The counts of user types :\")\n",
    "    userTypes = df['User Type'].value_counts()\n",
    "    for userType in userTypes.index:\n",
    "        print(userType, \":\", userTypes[userType])\n",
    "\n",
    "    # TO DO: Display counts of gender\n",
    "    try:\n",
    "        print(\"The counts of gender :\")\n",
    "        genderTypes = df['Gender'].value_counts()\n",
    "        for genderType in genderTypes.index:\n",
    "            print(genderType, \":\", genderTypes[genderType])\n",
    "    except:\n",
    "        print(\"No Gender Data!!!\")\n",
    "\n",
    "    # TO DO: Display earliest, most recent, and most common year of birth\n",
    "    try:\n",
    "        print(\"The earliest year of birth :\",df[\"Birth Year\"].min())\n",
    "        print(\"The most recent year of birth :\", df[\"Birth Year\"].max())\n",
    "        print(\"The most common year of birth :\", df[\"Birth Year\"].mode()[0])\n",
    "    except:\n",
    "        print(\"No Birth Year Data!!!\")\n",
    "\n",
    "    print(\"\\nThis took %s seconds.\" % (time.time() - start_time))\n",
    "    print('-' * 40)"
   ]
  },
  {
   "cell_type": "code",
   "execution_count": 23,
   "metadata": {},
   "outputs": [
    {
     "name": "stdout",
     "output_type": "stream",
     "text": [
      "\n",
      "Calculating User Stats...\n",
      "\n",
      "The counts of user types :\n",
      "Subscriber : 8617\n",
      "Customer : 882\n",
      "The counts of gender :\n",
      "Male : 6467\n",
      "Female : 2198\n",
      "The earliest year of birth : 1893.0\n",
      "The most recent year of birth : 2001.0\n",
      "The most common year of birth : 1986.0\n",
      "\n",
      "This took 0.008001327514648438 seconds.\n",
      "----------------------------------------\n"
     ]
    }
   ],
   "source": [
    "user_stats(df)"
   ]
  },
  {
   "cell_type": "code",
   "execution_count": 24,
   "metadata": {},
   "outputs": [
    {
     "name": "stdout",
     "output_type": "stream",
     "text": [
      "<class 'pandas.core.frame.DataFrame'>\n",
      "Int64Index: 9499 entries, 49 to 299962\n",
      "Data columns (total 11 columns):\n",
      " #   Column         Non-Null Count  Dtype         \n",
      "---  ------         --------------  -----         \n",
      " 0   Unnamed: 0     9499 non-null   int64         \n",
      " 1   Start Time     9499 non-null   datetime64[ns]\n",
      " 2   End Time       9499 non-null   object        \n",
      " 3   Trip Duration  9499 non-null   int64         \n",
      " 4   Start Station  9499 non-null   object        \n",
      " 5   End Station    9499 non-null   object        \n",
      " 6   User Type      9499 non-null   object        \n",
      " 7   Gender         8665 non-null   object        \n",
      " 8   Birth Year     8693 non-null   float64       \n",
      " 9   month          9499 non-null   int64         \n",
      " 10  day_of_week    9499 non-null   object        \n",
      "dtypes: datetime64[ns](1), float64(1), int64(3), object(6)\n",
      "memory usage: 890.5+ KB\n"
     ]
    }
   ],
   "source": [
    "df.info()"
   ]
  },
  {
   "cell_type": "code",
   "execution_count": 27,
   "metadata": {},
   "outputs": [
    {
     "data": {
      "text/plain": [
       "Male      6467\n",
       "Female    2198\n",
       "Name: Gender, dtype: int64"
      ]
     },
     "execution_count": 27,
     "metadata": {},
     "output_type": "execute_result"
    }
   ],
   "source": [
    "df.Gender.value_counts()"
   ]
  },
  {
   "cell_type": "code",
   "execution_count": null,
   "metadata": {},
   "outputs": [],
   "source": []
  }
 ],
 "metadata": {
  "kernelspec": {
   "display_name": "Python 3",
   "language": "python",
   "name": "python3"
  },
  "language_info": {
   "codemirror_mode": {
    "name": "ipython",
    "version": 3
   },
   "file_extension": ".py",
   "mimetype": "text/x-python",
   "name": "python",
   "nbconvert_exporter": "python",
   "pygments_lexer": "ipython3",
   "version": "3.8.5"
  }
 },
 "nbformat": 4,
 "nbformat_minor": 4
}
